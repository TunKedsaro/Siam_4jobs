{
  "nbformat": 4,
  "nbformat_minor": 0,
  "metadata": {
    "colab": {
      "provenance": []
    },
    "kernelspec": {
      "name": "python3",
      "display_name": "Python 3"
    },
    "language_info": {
      "name": "python"
    }
  },
  "cells": [
    {
      "cell_type": "code",
      "source": [
        "!unzip /content/Pball_images2.zipy"
      ],
      "metadata": {
        "colab": {
          "base_uri": "https://localhost:8080/"
        },
        "id": "oexQS7e-udnJ",
        "outputId": "209be7df-7402-45d7-c87d-bc2bef43b18e"
      },
      "execution_count": 3,
      "outputs": [
        {
          "output_type": "stream",
          "name": "stdout",
          "text": [
            "Archive:  /content/Pball_images2.zip\n",
            "replace Pball_images2/073124_120000.jpg? [y]es, [n]o, [A]ll, [N]one, [r]ename: y\n",
            "  inflating: Pball_images2/073124_120000.jpg  \n",
            "replace Pball_images2/103304.png? [y]es, [n]o, [A]ll, [N]one, [r]ename: y\n",
            "  inflating: Pball_images2/103304.png  \n",
            "replace Pball_images2/abc.jpg? [y]es, [n]o, [A]ll, [N]one, [r]ename: y\n",
            "  inflating: Pball_images2/abc.jpg   \n",
            "replace Pball_images2/zdx1234.png? [y]es, [n]o, [A]ll, [N]one, [r]ename: y\n",
            "  inflating: Pball_images2/zdx1234.png  \n"
          ]
        }
      ]
    },
    {
      "cell_type": "code",
      "source": [
        "Input_path  = \"/content/Pball_images2\""
      ],
      "metadata": {
        "id": "HbYYnmPmudhq"
      },
      "execution_count": 4,
      "outputs": []
    },
    {
      "cell_type": "markdown",
      "source": [
        "<hr>"
      ],
      "metadata": {
        "id": "wUTF7QPLv_Ao"
      }
    },
    {
      "cell_type": "code",
      "source": [
        "# from google.colab import drive\n",
        "# drive.mount('/content/drive')"
      ],
      "metadata": {
        "id": "bJ8FSbcdv_m8"
      },
      "execution_count": 5,
      "outputs": []
    },
    {
      "cell_type": "code",
      "source": [
        "!pip install -q git+https://github.com/THU-MIG/yolov10.git"
      ],
      "metadata": {
        "colab": {
          "base_uri": "https://localhost:8080/"
        },
        "id": "bJDcJQK2udfB",
        "outputId": "bbb44518-6779-48af-8cbd-78f45d5f69b1"
      },
      "execution_count": 6,
      "outputs": [
        {
          "output_type": "stream",
          "name": "stdout",
          "text": [
            "y\n",
            "y\n",
            "  Installing build dependencies ... \u001b[?25l\u001b[?25hdone\n",
            "  Getting requirements to build wheel ... \u001b[?25l\u001b[?25hdone\n",
            "  Preparing metadata (pyproject.toml) ... \u001b[?25l\u001b[?25hdone\n",
            "  Building wheel for ultralytics (pyproject.toml) ... \u001b[?25l\u001b[?25hdone\n"
          ]
        }
      ]
    },
    {
      "cell_type": "code",
      "source": [
        "from ultralytics import YOLOv10\n",
        "import matplotlib.pyplot as plt\n",
        "import matplotlib.patches as patches\n",
        "import pandas as pd\n",
        "import numpy as np\n",
        "import cv2\n",
        "import os\n",
        "from io import BytesIO\n",
        "from PIL import Image"
      ],
      "metadata": {
        "id": "dB_CceG8udcS"
      },
      "execution_count": 7,
      "outputs": []
    },
    {
      "cell_type": "code",
      "source": [
        "model = YOLOv10(\"/content/drive/MyDrive/Siam/Student_Detection/student_model/200824.0558.pt\")"
      ],
      "metadata": {
        "colab": {
          "base_uri": "https://localhost:8080/"
        },
        "id": "aUPPm5rFudZ5",
        "outputId": "19f0640b-9b8b-480d-d1c1-4485e7bd445e"
      },
      "execution_count": 8,
      "outputs": [
        {
          "output_type": "stream",
          "name": "stderr",
          "text": [
            "/usr/local/lib/python3.10/dist-packages/ultralytics/nn/tasks.py:733: FutureWarning: You are using `torch.load` with `weights_only=False` (the current default value), which uses the default pickle module implicitly. It is possible to construct malicious pickle data which will execute arbitrary code during unpickling (See https://github.com/pytorch/pytorch/blob/main/SECURITY.md#untrusted-models for more details). In a future release, the default value for `weights_only` will be flipped to `True`. This limits the functions that could be executed during unpickling. Arbitrary objects will no longer be allowed to be loaded via this mode unless they are explicitly allowlisted by the user via `torch.serialization.add_safe_globals`. We recommend you start setting `weights_only=True` for any use case where you don't have full control of the loaded file. Please open an issue on GitHub for any issues related to this experimental feature.\n",
            "  ckpt = torch.load(file, map_location=\"cpu\")\n"
          ]
        }
      ]
    },
    {
      "cell_type": "code",
      "source": [
        "Output_path = \"/content/output\"\n",
        "Output_images = os.path.join(Output_path,\"outputs_img\")\n",
        "Output_txt    = os.path.join(Output_path,\"results_txt\")\n",
        "if not(os.path.exists(Output_path)):\n",
        "    os.mkdir(Output_path)\n",
        "    os.mkdir(Output_images)\n",
        "    os.mkdir(Output_txt)"
      ],
      "metadata": {
        "id": "3KeJsipVudXg"
      },
      "execution_count": 9,
      "outputs": []
    },
    {
      "cell_type": "code",
      "source": [
        "# Seat config\n",
        "areas = {\n",
        "    # # 1 /\n",
        "        \"A8\": {\"x_min\": 1000, \"y_min\": 1350, \"width\": 50*10,\"height\": 50*8},        # A1 -> A8\n",
        "        \"A7\": {\"x_min\": 1550, \"y_min\": 1300, \"width\": 50*8, \"height\": 50*8},        # B1 -> A7\n",
        "        \"A6\": {\"x_min\": 2450, \"y_min\": 1150, \"width\": 50*7, \"height\": 50*7},        # C1 -> A6\n",
        "        \"A5\": {\"x_min\": 2750, \"y_min\": 1100, \"width\": 50*5, \"height\": 50*6},        # D1 -> A5\n",
        "        \"A4\": {\"x_min\": 3150, \"y_min\": 1100, \"width\": 50*4, \"height\": 50*4},        # E1 -> A4\n",
        "        \"A3\": {\"x_min\": 3300, \"y_min\": 1050, \"width\": 50*3, \"height\": 50*4},        # F1 -> A3\n",
        "        \"A2\": {\"x_min\": 3400, \"y_min\": 1000, \"width\": 50*3, \"height\": 50*4},        # G1 -> A2\n",
        "        \"A1\": {\"x_min\": 3500, \"y_min\": 1000, \"width\": 50*3, \"height\": 50*4},        # H1 -> A1\n",
        "    # 2 /\n",
        "        \"B8\": {\"x_min\": 950, \"y_min\": 1050, \"width\": 50*6, \"height\": 50*5},         # A2 -> B8\n",
        "        \"B7\": {\"x_min\": 1400, \"y_min\": 950, \"width\": 50*5, \"height\": 50*6},         # B2 -> B7\n",
        "        \"B6\": {\"x_min\": 2100, \"y_min\": 950, \"width\": 50*5, \"height\": 50*5},         # C2 -> B6\n",
        "        \"B5\": {\"x_min\": 2400, \"y_min\": 950, \"width\": 50*5, \"height\": 50*4},         # D2 -> B5\n",
        "        \"B4\": {\"x_min\": 2850, \"y_min\": 900, \"width\": 50*4, \"height\": 50*4},         # E2 -> B4\n",
        "        \"B3\": {\"x_min\": 3000, \"y_min\": 850, \"width\": 50*3, \"height\": 50*4},         # F2 -> B3\n",
        "        \"B2\": {\"x_min\": 3100, \"y_min\": 850, \"width\": 50*4, \"height\": 50*3},         # G2 -> B2\n",
        "        \"B1\": {\"x_min\": 3250, \"y_min\": 850, \"width\": 50*2, \"height\": 50*3},         # H2 -> B1\n",
        "    # 3\n",
        "        \"C8\": {\"x_min\": 850, \"y_min\": 800, \"width\": 50*6, \"height\": 50*5},          # A3 -> C8\n",
        "        \"C7\": {\"x_min\": 1200, \"y_min\": 750, \"width\": 50*5, \"height\": 50*5},         # B3 -> C7\n",
        "        \"C6\": {\"x_min\": 1900, \"y_min\": 750, \"width\": 50*4, \"height\": 50*4},         # C3 -> C6\n",
        "        \"C5\": {\"x_min\": 2100, \"y_min\": 750, \"width\": 50*4, \"height\": 50*4},         # D3 -> C5\n",
        "        \"C4\": {\"x_min\": 2500, \"y_min\": 700, \"width\": 50*4, \"height\": 50*4},         # E3 -> C4\n",
        "        \"C3\": {\"x_min\": 2700, \"y_min\": 700, \"width\": 50*3, \"height\": 50*4},         # F3 -> C3\n",
        "        \"C2\": {\"x_min\": 2850, \"y_min\": 750, \"width\": 50*4, \"height\": 50*3},         # G3 -> C2\n",
        "    # \"C1\": {\"x_min\": 0, \"y_min\": 0, \"width\": 50*0, \"height\": 50*0},              # H3 -> C1\n",
        "    # 4\n",
        "        \"D8\": {\"x_min\": 900, \"y_min\": 700, \"width\": 50*5, \"height\": 50*3},          # A4 -> D8\n",
        "        \"D7\": {\"x_min\": 1200, \"y_min\": 650, \"width\": 50*4, \"height\": 50*4},         # B4 -> D7\n",
        "        \"D6\": {\"x_min\": 1650, \"y_min\": 600, \"width\": 50*5, \"height\": 50*4},         # C4 -> D6\n",
        "        \"D5\": {\"x_min\": 1850, \"y_min\": 650, \"width\": 50*5, \"height\": 50*3},         # D4 -> D5\n",
        "        \"D4\": {\"x_min\": 2250, \"y_min\": 600, \"width\": 50*4, \"height\": 50*4},         # E4 -> D4\n",
        "        \"D3\": {\"x_min\": 2450, \"y_min\": 650, \"width\": 50*3, \"height\": 50*2},         # F4 -> D3\n",
        "        \"D2\": {\"x_min\": 2650, \"y_min\": 650, \"width\": 50*3, \"height\": 50*2},         # G4 -> D2\n",
        "        # \"D1\": {\"x_min\": 0, \"y_min\": 0, \"width\": 50*0, \"height\": 50*0},            # H4 -> D1\n",
        "    # 5\n",
        "        \"E8\": {\"x_min\": 850, \"y_min\": 550, \"width\": 50*4, \"height\": 50*4},          # A5 -> E8\n",
        "        \"E7\": {\"x_min\": 1100, \"y_min\": 550, \"width\": 50*4, \"height\": 50*3},         # B5 -> E7\n",
        "        \"E6\": {\"x_min\": 1500, \"y_min\": 500, \"width\": 50*3, \"height\": 50*3},         # C5 -> E6\n",
        "        \"E5\": {\"x_min\": 1700, \"y_min\": 500, \"width\": 50*3, \"height\": 50*3},         # D5 -> E5\n",
        "        \"E4\": {\"x_min\": 2000, \"y_min\": 550, \"width\": 50*3, \"height\": 50*3},         # E5 -> E4\n",
        "        \"E3\": {\"x_min\": 2200, \"y_min\": 550, \"width\": 50*3, \"height\": 50*2},         # E6 -> E3\n",
        "        \"E2\": {\"x_min\": 2400, \"y_min\": 550, \"width\": 50*3, \"height\": 50*2},         # E7 -> E2\n",
        "        \"E1\": {\"x_min\": 0, \"y_min\": 0, \"width\": 50*1, \"height\": 50*1},            # E8 -> E1\n",
        "\n",
        "    # 6\n",
        "        \"F8\": {\"x_min\": 850,  \"y_min\": 450, \"width\": 50*3, \"height\": 50*3},         # A6 -> F8\n",
        "        \"F7\": {\"x_min\": 1050, \"y_min\": 450, \"width\": 50*3, \"height\": 50*3},         # B6 -> F7\n",
        "        \"F6\": {\"x_min\": 1350, \"y_min\": 450, \"width\": 50*4, \"height\": 50*3},         # C6 -> F6\n",
        "        \"F5\": {\"x_min\": 1550, \"y_min\": 450, \"width\": 50*4, \"height\": 50*3},         # D6 -> F5\n",
        "        \"F4\": {\"x_min\": 1900, \"y_min\": 450, \"width\": 50*3, \"height\": 50*3},         # E6 -> F4\n",
        "        \"F3\": {\"x_min\": 2050, \"y_min\": 450, \"width\": 50*3, \"height\": 50*3},         # F6 -> F3\n",
        "        \"F2\": {\"x_min\": 2200, \"y_min\": 450, \"width\": 50*2, \"height\": 50*3},         # G6 -> F2\n",
        "        \"F1\": {\"x_min\": 2300, \"y_min\": 450, \"width\": 50*2, \"height\": 50*3},         # H6 -> F1\n",
        "    # 7\n",
        "        \"G8\": {\"x_min\": 850, \"y_min\": 450, \"width\": 50*3, \"height\": 50*2},          # A7 -> G8\n",
        "        \"G7\": {\"x_min\": 1000, \"y_min\": 450, \"width\": 50*3, \"height\": 50*2},         # B7 -> G7\n",
        "        \"G6\": {\"x_min\": 1300, \"y_min\": 400, \"width\": 50*3, \"height\": 50*2},         # C7 -> G6\n",
        "        \"G5\": {\"x_min\": 1500, \"y_min\": 400, \"width\": 50*2, \"height\": 50*2},         # D7 -> G5\n",
        "        \"G4\": {\"x_min\": 1750, \"y_min\": 400, \"width\": 50*3, \"height\": 50*2},         # E7 -> G4\n",
        "        \"G3\": {\"x_min\": 1900, \"y_min\": 400, \"width\": 50*3, \"height\": 50*2},         # F7 -> G3\n",
        "        \"G2\": {\"x_min\": 2000, \"y_min\": 400, \"width\": 50*2, \"height\": 50*2},         # G7 -> G2\n",
        "        \"G1\": {\"x_min\": 2100, \"y_min\": 400, \"width\": 50*2, \"height\": 50*2},         # H7 -> G1\n",
        "    # 8\n",
        "        \"H9\": {\"x_min\": 800, \"y_min\": 400, \"width\": 50*2, \"height\": 50*2},\n",
        "        \"H8\": {\"x_min\": 900, \"y_min\": 400, \"width\": 50*2, \"height\": 50*2},\n",
        "        \"H7\": {\"x_min\": 1000, \"y_min\": 350, \"width\": 50*2, \"height\": 50*2},\n",
        "        \"H6\": {\"x_min\": 1250, \"y_min\": 350, \"width\": 50*2, \"height\": 50*2},\n",
        "        \"H5\": {\"x_min\": 1400, \"y_min\": 350, \"width\": 50*2, \"height\": 50*2},\n",
        "        \"H4\": {\"x_min\": 1675, \"y_min\": 375, \"width\": 25*4, \"height\": 25*3},\n",
        "        \"H3\": {\"x_min\": 1800, \"y_min\": 375, \"width\": 25*4, \"height\": 25*3},\n",
        "        \"H2\": {\"x_min\": 1925, \"y_min\": 375, \"width\": 25*4, \"height\": 25*3},\n",
        "        \"H1\": {\"x_min\": 2000, \"y_min\": 375, \"width\": 25*4, \"height\": 25*3},\n",
        "    }"
      ],
      "metadata": {
        "id": "o2NAid0gudVL"
      },
      "execution_count": 10,
      "outputs": []
    },
    {
      "cell_type": "code",
      "source": [
        "def RSK_converter(result_txt):\n",
        "    return {key: int(value) for key, value in result_txt.items()}"
      ],
      "metadata": {
        "id": "EgwK-DHHuoPQ"
      },
      "execution_count": 11,
      "outputs": []
    },
    {
      "cell_type": "code",
      "source": [
        "def Yolo_function(contents):\n",
        "    # with open(r\"C:\\Users\\Acer\\Desktop\\MSiam\\zcode\\img5.txt\",'r') as f:\n",
        "    #     contents = f.read()\n",
        "\n",
        "    img = cv2.imread(contents)\n",
        "    img = cv2.resize(img, (3840,2160))  # OpenCV uses (width, height) order\n",
        "    # Perform object detection with your model\n",
        "    results = model(source=img, conf=0.1)\n",
        "\n",
        "    # Set up the figure for plotting\n",
        "    fig, ax = plt.subplots(1, figsize=(12, 8), frameon=False)\n",
        "    ax.imshow(img)\n",
        "\n",
        "\n",
        "\n",
        "        # Frames\n",
        "    seat = [\"A1\",\"A2\",\"A3\",\"A4\",\"A5\",\"A6\",\"A7\",\"A8\",\n",
        "            \"B1\",\"B2\",\"B3\",\"B4\",\"B5\",\"B6\",\"B7\",\"B8\",\n",
        "                 \"C2\",\"C3\",\"C4\",\"C5\",\"C6\",\"C7\",\"C8\",\n",
        "            \"D2\",\"D3\",\"D4\",\"D5\",\"D6\",\"D7\",\"D8\",\n",
        "            \"E1\",\"E2\",\"E3\",\"E4\",\"E5\",\"E6\",\"E7\",\"E8\",\n",
        "            \"F1\",\"F2\",\"F3\",\"F4\",\"F5\",\"F6\",\"F7\",\"F8\",\n",
        "            \"G1\",\"G2\",\"G3\",\"G4\",\"G5\",\"G6\",\"G7\",\"G8\",\n",
        "            \"H1\",\"H2\",\"H3\",\"H4\",\"H5\",\"H6\",\"H7\",\"H8\",\"H9\"]\n",
        "    # seat = [\"A1\",\"A2\",\"A3\",\"A4\",\"A5\",\"A6\",\"A7\",\"A8\"]\n",
        "    seat = {i:False for i in seat}\n",
        "\n",
        "\n",
        "        # Draws Frames on images\n",
        "    for area_name, area in areas.items():\n",
        "        rect_area = patches.Rectangle((area[\"x_min\"], area[\"y_min\"]), area[\"width\"], area[\"height\"],\n",
        "                                    linewidth=1, edgecolor='blue', facecolor='none', label=area_name)\n",
        "        ax.add_patch(rect_area)\n",
        "\n",
        "    for result in results:\n",
        "        if not result.boxes:\n",
        "            print(\"There are no boxes\")\n",
        "        else:\n",
        "            boxes = result.boxes.xyxy.tolist()\n",
        "            clases = [int(cls) for cls in result.boxes.cls.tolist()]\n",
        "            for box, cls in zip(boxes, clases):\n",
        "                # Center of box\n",
        "                x_min, y_min, x_max, y_max = box\n",
        "                center_x = (x_min + x_max) / 2\n",
        "                center_y = (y_min + y_max) / 2\n",
        "\n",
        "                # Track if the center is in any area\n",
        "                center_in_any_area = False\n",
        "\n",
        "                # Loop to check each area\n",
        "                for area_name, area in areas.items():\n",
        "                    area_x_max = area[\"x_min\"] + area[\"width\"]\n",
        "                    area_y_max = area[\"y_min\"] + area[\"height\"]\n",
        "                    in_area = (area[\"x_min\"] <= center_x <= area_x_max) and (area[\"y_min\"] <= center_y <= area_y_max)\n",
        "\n",
        "                    # Update seat status and mark center_in_any_area\n",
        "                    if in_area:\n",
        "                        seat[area_name] = True\n",
        "                        center_in_any_area = True\n",
        "\n",
        "                # # Draw box of the detected object\n",
        "                # rect = patches.Rectangle((x_min, y_min), x_max - x_min, y_max - y_min,\n",
        "                #                          linewidth=1, edgecolor='r', facecolor='none')\n",
        "                # ax.add_patch(rect)\n",
        "\n",
        "                # Mark the center of the box; green if in any area, red otherwise\n",
        "                ax.plot(center_x, center_y, 'go' if center_in_any_area else 'ro')\n",
        "    ax.axis('off')\n",
        "    plt.subplots_adjust(left=0, right=1, top=1, bottom=0, wspace=0, hspace=0)\n",
        "    plt.margins(0)\n",
        "    plt.gca().xaxis.set_major_locator(plt.NullLocator())\n",
        "    plt.gca().yaxis.set_major_locator(plt.NullLocator())\n",
        "\n",
        "    # Draw the canvas without displaying it\n",
        "    fig.canvas.draw()  # Draws the figure in memory\n",
        "\n",
        "    # Save the figure to a BytesIO object as a PIL image\n",
        "    buf = BytesIO()\n",
        "    plt.savefig(buf, format='PNG', bbox_inches='tight', pad_inches=0)\n",
        "    buf.seek(0)\n",
        "    annotated_img = Image.open(buf)\n",
        "\n",
        "    plt.close(fig)  # Close the figure to free memory\n",
        "\n",
        "    return annotated_img, len(boxes), RSK_converter(seat)"
      ],
      "metadata": {
        "id": "NVD5Hk8xuoMs"
      },
      "execution_count": 12,
      "outputs": []
    },
    {
      "cell_type": "code",
      "source": [
        "for i in os.listdir(Input_path):\n",
        "    img_path = os.path.join(Input_path, i)\n",
        "\n",
        "    # Yolo Core\n",
        "    output_img, _, result_txt = Yolo_function(img_path)\n",
        "\n",
        "    # Convert PIL image (annotated_img) to OpenCV format (BGR for cv2.imwrite)\n",
        "    output_img_cv = cv2.cvtColor(np.array(output_img), cv2.COLOR_RGB2BGR)\n",
        "\n",
        "    # Save processed image\n",
        "    output_file = os.path.join(Output_images, f\"{os.path.splitext(i)[0]}.png\")\n",
        "    cv2.imwrite(output_file, output_img_cv)\n",
        "\n",
        "    # Save result CSV file\n",
        "    df = pd.DataFrame(list(result_txt.items()), columns=['Seat', 'Value'])\n",
        "    csv_filename = os.path.join(Output_txt, f\"{os.path.splitext(i)[0]}.csv\")\n",
        "    df.to_csv(csv_filename, index=False)"
      ],
      "metadata": {
        "colab": {
          "base_uri": "https://localhost:8080/"
        },
        "id": "aplYD_TOuoKD",
        "outputId": "dd701501-644a-4421-b84b-aad55a416406"
      },
      "execution_count": 13,
      "outputs": [
        {
          "output_type": "stream",
          "name": "stdout",
          "text": [
            "\n",
            "0: 384x640 3 students, 3215.8ms\n",
            "Speed: 13.8ms preprocess, 3215.8ms inference, 25.1ms postprocess per image at shape (1, 3, 384, 640)\n",
            "\n",
            "0: 384x640 44 students, 1554.2ms\n",
            "Speed: 4.1ms preprocess, 1554.2ms inference, 0.9ms postprocess per image at shape (1, 3, 384, 640)\n",
            "\n",
            "0: 384x640 2 students, 1523.1ms\n",
            "Speed: 5.9ms preprocess, 1523.1ms inference, 1.1ms postprocess per image at shape (1, 3, 384, 640)\n",
            "\n",
            "0: 384x640 40 students, 2093.2ms\n",
            "Speed: 4.5ms preprocess, 2093.2ms inference, 0.9ms postprocess per image at shape (1, 3, 384, 640)\n"
          ]
        }
      ]
    },
    {
      "cell_type": "code",
      "source": [
        "!zip -r output.zip /content/output"
      ],
      "metadata": {
        "id": "JJSplkft1Fvz",
        "colab": {
          "base_uri": "https://localhost:8080/"
        },
        "outputId": "c6b318a1-ac42-4bed-872f-7ab811fe718a"
      },
      "execution_count": 14,
      "outputs": [
        {
          "output_type": "stream",
          "name": "stdout",
          "text": [
            "  adding: content/output/ (stored 0%)\n",
            "  adding: content/output/outputs_img/ (stored 0%)\n",
            "  adding: content/output/outputs_img/103304.png (deflated 6%)\n",
            "  adding: content/output/outputs_img/zdx1234.png (deflated 6%)\n",
            "  adding: content/output/outputs_img/073124_120000.png (deflated 6%)\n",
            "  adding: content/output/outputs_img/abc.png (deflated 7%)\n",
            "  adding: content/output/results_txt/ (stored 0%)\n",
            "  adding: content/output/results_txt/abc.csv (deflated 58%)\n",
            "  adding: content/output/results_txt/zdx1234.csv (deflated 55%)\n",
            "  adding: content/output/results_txt/073124_120000.csv (deflated 58%)\n",
            "  adding: content/output/results_txt/103304.csv (deflated 55%)\n"
          ]
        }
      ]
    },
    {
      "cell_type": "code",
      "source": [
        "from google.colab import files\n",
        "files.download(\"/content/output.zip\")"
      ],
      "metadata": {
        "colab": {
          "base_uri": "https://localhost:8080/",
          "height": 17
        },
        "id": "YME4YwX24ru8",
        "outputId": "bcbc4b3d-7764-4d60-c62d-241f49a42ef9"
      },
      "execution_count": 17,
      "outputs": [
        {
          "output_type": "display_data",
          "data": {
            "text/plain": [
              "<IPython.core.display.Javascript object>"
            ],
            "application/javascript": [
              "\n",
              "    async function download(id, filename, size) {\n",
              "      if (!google.colab.kernel.accessAllowed) {\n",
              "        return;\n",
              "      }\n",
              "      const div = document.createElement('div');\n",
              "      const label = document.createElement('label');\n",
              "      label.textContent = `Downloading \"${filename}\": `;\n",
              "      div.appendChild(label);\n",
              "      const progress = document.createElement('progress');\n",
              "      progress.max = size;\n",
              "      div.appendChild(progress);\n",
              "      document.body.appendChild(div);\n",
              "\n",
              "      const buffers = [];\n",
              "      let downloaded = 0;\n",
              "\n",
              "      const channel = await google.colab.kernel.comms.open(id);\n",
              "      // Send a message to notify the kernel that we're ready.\n",
              "      channel.send({})\n",
              "\n",
              "      for await (const message of channel.messages) {\n",
              "        // Send a message to notify the kernel that we're ready.\n",
              "        channel.send({})\n",
              "        if (message.buffers) {\n",
              "          for (const buffer of message.buffers) {\n",
              "            buffers.push(buffer);\n",
              "            downloaded += buffer.byteLength;\n",
              "            progress.value = downloaded;\n",
              "          }\n",
              "        }\n",
              "      }\n",
              "      const blob = new Blob(buffers, {type: 'application/binary'});\n",
              "      const a = document.createElement('a');\n",
              "      a.href = window.URL.createObjectURL(blob);\n",
              "      a.download = filename;\n",
              "      div.appendChild(a);\n",
              "      a.click();\n",
              "      div.remove();\n",
              "    }\n",
              "  "
            ]
          },
          "metadata": {}
        },
        {
          "output_type": "display_data",
          "data": {
            "text/plain": [
              "<IPython.core.display.Javascript object>"
            ],
            "application/javascript": [
              "download(\"download_70687267-ec6d-4ea1-b99d-d8f82d1f01e8\", \"output.zip\", 3792349)"
            ]
          },
          "metadata": {}
        }
      ]
    }
  ]
}